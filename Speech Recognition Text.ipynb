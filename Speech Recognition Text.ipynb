{
 "cells": [
  {
   "cell_type": "code",
   "execution_count": 2,
   "id": "33bb66fc-db16-4368-9fae-cb50f5c60ef7",
   "metadata": {},
   "outputs": [
    {
     "name": "stdout",
     "output_type": "stream",
     "text": [
      "Speech: artificial intelligence is revolutionizing Industries worldwide\n"
     ]
    }
   ],
   "source": [
    "import speech_recognition as sr\n",
    "\n",
    "recognizer = sr.Recognizer()\n",
    "audio_file = \"Sample.wav\"\n",
    "with sr.AudioFile(audio_file) as source:\n",
    "  audio_data = recognizer.record(source)\n",
    "\n",
    "  try:\n",
    "    text = recognizer.recognize_google(audio_data)\n",
    "    print(\"Speech:\", text)\n",
    "  except sr.UnknownValueError:\n",
    "    print(\"Not Found\")\n",
    "  except sr.RequestError as e:\n",
    "    print(\"could not request result; {0}\".format(e))"
   ]
  }
 ],
 "metadata": {
  "kernelspec": {
   "display_name": "anaconda-panel-2023.05-py310",
   "language": "python",
   "name": "conda-env-anaconda-panel-2023.05-py310-py"
  },
  "language_info": {
   "codemirror_mode": {
    "name": "ipython",
    "version": 3
   },
   "file_extension": ".py",
   "mimetype": "text/x-python",
   "name": "python",
   "nbconvert_exporter": "python",
   "pygments_lexer": "ipython3",
   "version": "3.11.5"
  }
 },
 "nbformat": 4,
 "nbformat_minor": 5
}
